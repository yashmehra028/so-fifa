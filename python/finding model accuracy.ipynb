{
 "cells": [
  {
   "cell_type": "code",
   "execution_count": 43,
   "metadata": {},
   "outputs": [],
   "source": [
    "import requests\n",
    "from bs4 import BeautifulSoup as bs\n",
    "import numpy as np\n",
    "import matplotlib.pyplot as plt\n",
    "import concurrent.futures\n",
    "import pandas as pd\n",
    "import re\n",
    "from threading import Thread\n",
    "import collections\n",
    "import json\n",
    "from datetime import datetime as dt\n",
    "from sklearn.model_selection import train_test_split\n",
    "from sklearn.ensemble import RandomForestRegressor\n",
    "from sklearn.linear_model import LinearRegression\n",
    "from sklearn.metrics import r2_score\n",
    "import pickle"
   ]
  },
  {
   "cell_type": "code",
   "execution_count": 44,
   "metadata": {},
   "outputs": [],
   "source": [
    "filename = '../machine learning models/rating_predicition_from_player_model.sav'\n",
    "loaded_model = pickle.load(open(filename, 'rb'))"
   ]
  },
  {
   "cell_type": "code",
   "execution_count": 45,
   "metadata": {},
   "outputs": [],
   "source": [
    "df = pd.read_csv('../data/processed.csv')"
   ]
  },
  {
   "cell_type": "code",
   "execution_count": 46,
   "metadata": {},
   "outputs": [
    {
     "data": {
      "text/html": [
       "<div>\n",
       "<style scoped>\n",
       "    .dataframe tbody tr th:only-of-type {\n",
       "        vertical-align: middle;\n",
       "    }\n",
       "\n",
       "    .dataframe tbody tr th {\n",
       "        vertical-align: top;\n",
       "    }\n",
       "\n",
       "    .dataframe thead th {\n",
       "        text-align: right;\n",
       "    }\n",
       "</style>\n",
       "<table border=\"1\" class=\"dataframe\">\n",
       "  <thead>\n",
       "    <tr style=\"text-align: right;\">\n",
       "      <th></th>\n",
       "      <th>Name</th>\n",
       "      <th>Overall Rating</th>\n",
       "      <th>Potential</th>\n",
       "      <th>Value</th>\n",
       "      <th>Wage</th>\n",
       "      <th>Crossing</th>\n",
       "      <th>Finishing</th>\n",
       "      <th>Heading Accuracy</th>\n",
       "      <th>Short Passing</th>\n",
       "      <th>Volleys</th>\n",
       "      <th>...</th>\n",
       "      <th>GK Positioning</th>\n",
       "      <th>GK Reflexes</th>\n",
       "      <th>Positions</th>\n",
       "      <th>Nationality</th>\n",
       "      <th>Age</th>\n",
       "      <th>Height</th>\n",
       "      <th>Weight</th>\n",
       "      <th>Primary Position</th>\n",
       "      <th>Club</th>\n",
       "      <th>National Team</th>\n",
       "    </tr>\n",
       "  </thead>\n",
       "  <tbody>\n",
       "    <tr>\n",
       "      <th>0</th>\n",
       "      <td>Matty Cash</td>\n",
       "      <td>78.0</td>\n",
       "      <td>83.0</td>\n",
       "      <td>20000000.0</td>\n",
       "      <td>50000.0</td>\n",
       "      <td>78.0</td>\n",
       "      <td>66.0</td>\n",
       "      <td>49.0</td>\n",
       "      <td>70.0</td>\n",
       "      <td>48.0</td>\n",
       "      <td>...</td>\n",
       "      <td>13.0</td>\n",
       "      <td>8.0</td>\n",
       "      <td>['RB', 'RWB']</td>\n",
       "      <td>Poland</td>\n",
       "      <td>23.0</td>\n",
       "      <td>179.0</td>\n",
       "      <td>74.0</td>\n",
       "      <td>RB</td>\n",
       "      <td>Aston Villa</td>\n",
       "      <td>Poland</td>\n",
       "    </tr>\n",
       "    <tr>\n",
       "      <th>1</th>\n",
       "      <td>Gerónimo Rulli</td>\n",
       "      <td>81.0</td>\n",
       "      <td>81.0</td>\n",
       "      <td>17500000.0</td>\n",
       "      <td>33000.0</td>\n",
       "      <td>12.0</td>\n",
       "      <td>15.0</td>\n",
       "      <td>12.0</td>\n",
       "      <td>36.0</td>\n",
       "      <td>16.0</td>\n",
       "      <td>...</td>\n",
       "      <td>79.0</td>\n",
       "      <td>82.0</td>\n",
       "      <td>['GK']</td>\n",
       "      <td>Argentina</td>\n",
       "      <td>29.0</td>\n",
       "      <td>189.0</td>\n",
       "      <td>84.0</td>\n",
       "      <td>GK</td>\n",
       "      <td>Villarreal CF</td>\n",
       "      <td>No national team</td>\n",
       "    </tr>\n",
       "    <tr>\n",
       "      <th>2</th>\n",
       "      <td>Donyell Malen</td>\n",
       "      <td>79.0</td>\n",
       "      <td>85.0</td>\n",
       "      <td>28500000.0</td>\n",
       "      <td>56000.0</td>\n",
       "      <td>71.0</td>\n",
       "      <td>79.0</td>\n",
       "      <td>69.0</td>\n",
       "      <td>75.0</td>\n",
       "      <td>74.0</td>\n",
       "      <td>...</td>\n",
       "      <td>10.0</td>\n",
       "      <td>14.0</td>\n",
       "      <td>['ST']</td>\n",
       "      <td>Netherlands</td>\n",
       "      <td>22.0</td>\n",
       "      <td>179.0</td>\n",
       "      <td>78.0</td>\n",
       "      <td>ST</td>\n",
       "      <td>Borussia Dortmund</td>\n",
       "      <td>Netherlands</td>\n",
       "    </tr>\n",
       "    <tr>\n",
       "      <th>3</th>\n",
       "      <td>Oleksandr Zinchenko</td>\n",
       "      <td>79.0</td>\n",
       "      <td>82.0</td>\n",
       "      <td>22000000.0</td>\n",
       "      <td>90000.0</td>\n",
       "      <td>81.0</td>\n",
       "      <td>58.0</td>\n",
       "      <td>70.0</td>\n",
       "      <td>81.0</td>\n",
       "      <td>61.0</td>\n",
       "      <td>...</td>\n",
       "      <td>11.0</td>\n",
       "      <td>11.0</td>\n",
       "      <td>['LB']</td>\n",
       "      <td>Ukraine</td>\n",
       "      <td>24.0</td>\n",
       "      <td>175.0</td>\n",
       "      <td>64.0</td>\n",
       "      <td>LB</td>\n",
       "      <td>Manchester City</td>\n",
       "      <td>Ukraine</td>\n",
       "    </tr>\n",
       "    <tr>\n",
       "      <th>4</th>\n",
       "      <td>Rodrigo Hernández Cascante</td>\n",
       "      <td>87.0</td>\n",
       "      <td>89.0</td>\n",
       "      <td>90000000.0</td>\n",
       "      <td>190000.0</td>\n",
       "      <td>63.0</td>\n",
       "      <td>64.0</td>\n",
       "      <td>78.0</td>\n",
       "      <td>86.0</td>\n",
       "      <td>59.0</td>\n",
       "      <td>...</td>\n",
       "      <td>14.0</td>\n",
       "      <td>8.0</td>\n",
       "      <td>['CDM']</td>\n",
       "      <td>Spain</td>\n",
       "      <td>25.0</td>\n",
       "      <td>191.0</td>\n",
       "      <td>82.0</td>\n",
       "      <td>CDM</td>\n",
       "      <td>Manchester City</td>\n",
       "      <td>Spain</td>\n",
       "    </tr>\n",
       "  </tbody>\n",
       "</table>\n",
       "<p>5 rows × 47 columns</p>\n",
       "</div>"
      ],
      "text/plain": [
       "                         Name  Overall Rating  Potential       Value  \\\n",
       "0                  Matty Cash            78.0       83.0  20000000.0   \n",
       "1              Gerónimo Rulli            81.0       81.0  17500000.0   \n",
       "2               Donyell Malen            79.0       85.0  28500000.0   \n",
       "3         Oleksandr Zinchenko            79.0       82.0  22000000.0   \n",
       "4  Rodrigo Hernández Cascante            87.0       89.0  90000000.0   \n",
       "\n",
       "       Wage  Crossing  Finishing  Heading Accuracy  Short Passing  Volleys  \\\n",
       "0   50000.0      78.0       66.0              49.0           70.0     48.0   \n",
       "1   33000.0      12.0       15.0              12.0           36.0     16.0   \n",
       "2   56000.0      71.0       79.0              69.0           75.0     74.0   \n",
       "3   90000.0      81.0       58.0              70.0           81.0     61.0   \n",
       "4  190000.0      63.0       64.0              78.0           86.0     59.0   \n",
       "\n",
       "   ...  GK Positioning  GK Reflexes      Positions  Nationality   Age  Height  \\\n",
       "0  ...            13.0          8.0  ['RB', 'RWB']       Poland  23.0   179.0   \n",
       "1  ...            79.0         82.0         ['GK']    Argentina  29.0   189.0   \n",
       "2  ...            10.0         14.0         ['ST']  Netherlands  22.0   179.0   \n",
       "3  ...            11.0         11.0         ['LB']      Ukraine  24.0   175.0   \n",
       "4  ...            14.0          8.0        ['CDM']        Spain  25.0   191.0   \n",
       "\n",
       "   Weight  Primary Position               Club     National Team  \n",
       "0    74.0                RB        Aston Villa            Poland  \n",
       "1    84.0                GK      Villarreal CF  No national team  \n",
       "2    78.0                ST  Borussia Dortmund       Netherlands  \n",
       "3    64.0                LB    Manchester City           Ukraine  \n",
       "4    82.0               CDM    Manchester City             Spain  \n",
       "\n",
       "[5 rows x 47 columns]"
      ]
     },
     "execution_count": 46,
     "metadata": {},
     "output_type": "execute_result"
    }
   ],
   "source": [
    "df.head()"
   ]
  },
  {
   "cell_type": "code",
   "execution_count": 47,
   "metadata": {},
   "outputs": [],
   "source": [
    "inp = []\n",
    "countries = []\n",
    "for country,temp_df in df.groupby('Nationality'):\n",
    "    \n",
    "    a = list(temp_df['Overall Rating'])\n",
    "    a.sort(reverse=True)\n",
    "    if len(a) >= 11:\n",
    "        inp.append((country,a[0:11]))\n",
    "        countries.append(country)\n",
    "\n"
   ]
  },
  {
   "cell_type": "code",
   "execution_count": 48,
   "metadata": {},
   "outputs": [],
   "source": [
    "links = []\n",
    "r = requests.get('https://sofifa.com/teams?type=national')\n",
    "soup = bs(r.content)\n",
    "\n",
    "page = soup.select('td > a')\n",
    "a = 0\n",
    "for i in page:\n",
    "    if a % 2 == 0:\n",
    "        links.append('https://sofifa.com'+i['href'])\n",
    "    a += 1"
   ]
  },
  {
   "cell_type": "code",
   "execution_count": 49,
   "metadata": {},
   "outputs": [],
   "source": [
    "whatever = []\n",
    "\n",
    "for link in links:\n",
    "    soup = bs(requests.get(link).content)\n",
    "    name = soup.find('h1').get_text()\n",
    "    card = soup.find('section',attrs={'class':'card'})\n",
    "    div = card.find('div').get_text()\n",
    "    pattern = re.compile(r'\\d+')\n",
    "    rating = int(pattern.findall(div)[0])\n",
    "    whatever.append((name,rating))\n",
    "    \n",
    "      "
   ]
  },
  {
   "cell_type": "code",
   "execution_count": 50,
   "metadata": {},
   "outputs": [],
   "source": [
    "whatever = dict(whatever)"
   ]
  },
  {
   "cell_type": "code",
   "execution_count": 51,
   "metadata": {},
   "outputs": [],
   "source": [
    "input = []\n",
    "exact = []\n",
    "for i in inp:\n",
    "    if i[0] in whatever:\n",
    "        input.append(i[1])\n",
    "        exact.append(whatever[i[0]])"
   ]
  },
  {
   "cell_type": "code",
   "execution_count": 52,
   "metadata": {},
   "outputs": [
    {
     "data": {
      "text/plain": [
       "(33, 33)"
      ]
     },
     "execution_count": 52,
     "metadata": {},
     "output_type": "execute_result"
    }
   ],
   "source": [
    "len(input),len(exact)"
   ]
  },
  {
   "cell_type": "code",
   "execution_count": 53,
   "metadata": {},
   "outputs": [],
   "source": [
    "predictions = loaded_model.predict(input)"
   ]
  },
  {
   "cell_type": "code",
   "execution_count": 54,
   "metadata": {},
   "outputs": [
    {
     "data": {
      "text/plain": [
       "0.9472691003766895"
      ]
     },
     "execution_count": 54,
     "metadata": {},
     "output_type": "execute_result"
    }
   ],
   "source": [
    "r2_score(exact, predictions)"
   ]
  }
 ],
 "metadata": {
  "interpreter": {
   "hash": "c03106853b502d48878fd46ab811d2721c76389dc5a26d37ccfdca6b9e6d40a4"
  },
  "kernelspec": {
   "display_name": "Python 3.9.4 64-bit",
   "language": "python",
   "name": "python3"
  },
  "language_info": {
   "codemirror_mode": {
    "name": "ipython",
    "version": 3
   },
   "file_extension": ".py",
   "mimetype": "text/x-python",
   "name": "python",
   "nbconvert_exporter": "python",
   "pygments_lexer": "ipython3",
   "version": "3.9.4"
  },
  "orig_nbformat": 4
 },
 "nbformat": 4,
 "nbformat_minor": 2
}
