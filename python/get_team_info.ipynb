{
 "cells": [
  {
   "cell_type": "code",
   "execution_count": null,
   "metadata": {},
   "outputs": [],
   "source": [
    "import requests\n",
    "from bs4 import BeautifulSoup as bs\n",
    "import numpy as np\n",
    "import matplotlib.pyplot as plt\n",
    "import concurrent.futures\n",
    "import pandas as pd\n",
    "import re\n",
    "from threading import Thread\n",
    "import collections\n",
    "import json\n",
    "from datetime import datetime as dt\n",
    "from fuzzywuzzy import fuzz"
   ]
  },
  {
   "cell_type": "code",
   "execution_count": 7,
   "metadata": {},
   "outputs": [],
   "source": [
    "df = pd.read_csv('../data/processed.csv')\n",
    "clubs = df['Club'].unique()"
   ]
  },
  {
   "cell_type": "code",
   "execution_count": 8,
   "metadata": {},
   "outputs": [
    {
     "name": "stdout",
     "output_type": "stream",
     "text": [
      "<class 'pandas.core.frame.DataFrame'>\n",
      "RangeIndex: 17028 entries, 0 to 17027\n",
      "Data columns (total 47 columns):\n",
      " #   Column               Non-Null Count  Dtype  \n",
      "---  ------               --------------  -----  \n",
      " 0   Name                 17028 non-null  object \n",
      " 1   Overall Rating       17028 non-null  float64\n",
      " 2   Potential            17028 non-null  float64\n",
      " 3   Value                17028 non-null  float64\n",
      " 4   Wage                 17028 non-null  float64\n",
      " 5   Crossing             17028 non-null  float64\n",
      " 6   Finishing            17028 non-null  float64\n",
      " 7   Heading Accuracy     17028 non-null  float64\n",
      " 8   Short Passing        17028 non-null  float64\n",
      " 9   Volleys              17028 non-null  float64\n",
      " 10  Dribbling            17028 non-null  float64\n",
      " 11  Curve                17028 non-null  float64\n",
      " 12  FK Accuracy          17028 non-null  float64\n",
      " 13  Long Passing         17028 non-null  float64\n",
      " 14  Ball Control         17028 non-null  float64\n",
      " 15  Acceleration         17028 non-null  float64\n",
      " 16  Sprint Speed         17028 non-null  float64\n",
      " 17  Agility              17028 non-null  float64\n",
      " 18  Reactions            17028 non-null  float64\n",
      " 19  Balance              17028 non-null  float64\n",
      " 20  Shot Power           17028 non-null  float64\n",
      " 21  Jumping              17028 non-null  float64\n",
      " 22  Stamina              17028 non-null  float64\n",
      " 23  Strength             17028 non-null  float64\n",
      " 24  Long Shots           17028 non-null  float64\n",
      " 25  Aggression           17028 non-null  float64\n",
      " 26  Interceptions        17028 non-null  float64\n",
      " 27  Positioning          17028 non-null  float64\n",
      " 28  Vision               17028 non-null  float64\n",
      " 29  Penalties            17028 non-null  float64\n",
      " 30  Composure            17028 non-null  float64\n",
      " 31  Defensive Awareness  17028 non-null  float64\n",
      " 32  Standing Tackle      17028 non-null  float64\n",
      " 33  Sliding Tackle       17028 non-null  float64\n",
      " 34  GK Diving            17028 non-null  float64\n",
      " 35  GK Handling          17028 non-null  float64\n",
      " 36  GK Kicking           17028 non-null  float64\n",
      " 37  GK Positioning       17028 non-null  float64\n",
      " 38  GK Reflexes          17028 non-null  float64\n",
      " 39  Positions            17028 non-null  object \n",
      " 40  Nationality          17028 non-null  object \n",
      " 41  Age                  17028 non-null  float64\n",
      " 42  Height               17028 non-null  float64\n",
      " 43  Weight               17028 non-null  float64\n",
      " 44  Primary Position     17028 non-null  object \n",
      " 45  Club                 17006 non-null  object \n",
      " 46  National Team        17028 non-null  object \n",
      "dtypes: float64(41), object(6)\n",
      "memory usage: 6.1+ MB\n"
     ]
    }
   ],
   "source": [
    "df.info()"
   ]
  },
  {
   "cell_type": "code",
   "execution_count": 19,
   "metadata": {},
   "outputs": [],
   "source": [
    "def get_links(clubs,n_pages):\n",
    "    links = []\n",
    "    offset = range(0,n_pages*60,60)\n",
    "    for value in offset:\n",
    "        url = f'https://sofifa.com/teams?type=club&offset={value}'\n",
    "        r = requests.get(url)\n",
    "        soup = bs(r.content)\n",
    "        page = soup.select('td > a')\n",
    "        links += ['https://sofifa.com'+page[i]['href'] for i in range(len(page)) if i % 2 == 0]\n",
    "    \n",
    "    return [i[0] for i in collections.Counter(links).most_common()]\n",
    "\n",
    "links = get_links(clubs,20)\n"
   ]
  },
  {
   "cell_type": "code",
   "execution_count": 33,
   "metadata": {},
   "outputs": [],
   "source": [
    "result = []\n",
    "for url in links:\n",
    "    info = {}\n",
    "    r = requests.get(url)\n",
    "    soup = bs(r.content)\n",
    "    name = soup.find('h1').get_text()\n",
    "    if name in clubs:\n",
    "        info['Name'] = name\n",
    "        for i in soup.select('section.card'):\n",
    "            nums = re.compile(r'\\d+').findall(i.get_text())\n",
    "            text = re.compile(r'[A-Za-z]+').findall(i.get_text())\n",
    "            for i in range(len(nums)):\n",
    "                info[text[i]] = float(nums[i])\n",
    "    \n",
    "    result.append(info)\n",
    "\n",
    "club_df = pd.DataFrame(result)"
   ]
  },
  {
   "cell_type": "code",
   "execution_count": 34,
   "metadata": {},
   "outputs": [
    {
     "data": {
      "text/html": [
       "<div>\n",
       "<style scoped>\n",
       "    .dataframe tbody tr th:only-of-type {\n",
       "        vertical-align: middle;\n",
       "    }\n",
       "\n",
       "    .dataframe tbody tr th {\n",
       "        vertical-align: top;\n",
       "    }\n",
       "\n",
       "    .dataframe thead th {\n",
       "        text-align: right;\n",
       "    }\n",
       "</style>\n",
       "<table border=\"1\" class=\"dataframe\">\n",
       "  <thead>\n",
       "    <tr style=\"text-align: right;\">\n",
       "      <th></th>\n",
       "      <th>Name</th>\n",
       "      <th>Overall</th>\n",
       "      <th>Attack</th>\n",
       "      <th>Midfield</th>\n",
       "      <th>Defence</th>\n",
       "    </tr>\n",
       "  </thead>\n",
       "  <tbody>\n",
       "    <tr>\n",
       "      <th>0</th>\n",
       "      <td>Liverpool</td>\n",
       "      <td>85.0</td>\n",
       "      <td>86.0</td>\n",
       "      <td>84.0</td>\n",
       "      <td>85.0</td>\n",
       "    </tr>\n",
       "    <tr>\n",
       "      <th>1</th>\n",
       "      <td>Manchester City</td>\n",
       "      <td>85.0</td>\n",
       "      <td>84.0</td>\n",
       "      <td>87.0</td>\n",
       "      <td>85.0</td>\n",
       "    </tr>\n",
       "    <tr>\n",
       "      <th>2</th>\n",
       "      <td>Paris Saint-Germain</td>\n",
       "      <td>85.0</td>\n",
       "      <td>90.0</td>\n",
       "      <td>82.0</td>\n",
       "      <td>84.0</td>\n",
       "    </tr>\n",
       "    <tr>\n",
       "      <th>3</th>\n",
       "      <td>Chelsea</td>\n",
       "      <td>84.0</td>\n",
       "      <td>83.0</td>\n",
       "      <td>86.0</td>\n",
       "      <td>83.0</td>\n",
       "    </tr>\n",
       "    <tr>\n",
       "      <th>4</th>\n",
       "      <td>FC Bayern München</td>\n",
       "      <td>84.0</td>\n",
       "      <td>92.0</td>\n",
       "      <td>85.0</td>\n",
       "      <td>82.0</td>\n",
       "    </tr>\n",
       "  </tbody>\n",
       "</table>\n",
       "</div>"
      ],
      "text/plain": [
       "                  Name  Overall  Attack  Midfield  Defence\n",
       "0            Liverpool     85.0    86.0      84.0     85.0\n",
       "1      Manchester City     85.0    84.0      87.0     85.0\n",
       "2  Paris Saint-Germain     85.0    90.0      82.0     84.0\n",
       "3              Chelsea     84.0    83.0      86.0     83.0\n",
       "4    FC Bayern München     84.0    92.0      85.0     82.0"
      ]
     },
     "execution_count": 34,
     "metadata": {},
     "output_type": "execute_result"
    }
   ],
   "source": [
    "club_df.head()"
   ]
  },
  {
   "cell_type": "code",
   "execution_count": 38,
   "metadata": {},
   "outputs": [],
   "source": [
    "club_df.dropna(inplace=True)"
   ]
  },
  {
   "cell_type": "code",
   "execution_count": 39,
   "metadata": {},
   "outputs": [],
   "source": [
    "club_df.to_csv('../data/club_data.csv',index=False)"
   ]
  }
 ],
 "metadata": {
  "interpreter": {
   "hash": "c03106853b502d48878fd46ab811d2721c76389dc5a26d37ccfdca6b9e6d40a4"
  },
  "kernelspec": {
   "display_name": "Python 3.9.4 64-bit",
   "language": "python",
   "name": "python3"
  },
  "language_info": {
   "codemirror_mode": {
    "name": "ipython",
    "version": 3
   },
   "file_extension": ".py",
   "mimetype": "text/x-python",
   "name": "python",
   "nbconvert_exporter": "python",
   "pygments_lexer": "ipython3",
   "version": "3.9.4"
  },
  "orig_nbformat": 4
 },
 "nbformat": 4,
 "nbformat_minor": 2
}
