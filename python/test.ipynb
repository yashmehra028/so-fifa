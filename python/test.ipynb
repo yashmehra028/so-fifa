{
 "cells": [
  {
   "cell_type": "code",
   "execution_count": 8,
   "metadata": {},
   "outputs": [
    {
     "data": {
      "text/plain": [
       "'/Users/achintyahanda/Documents/Projects/python/so-fifa/python'"
      ]
     },
     "execution_count": 8,
     "metadata": {},
     "output_type": "execute_result"
    }
   ],
   "source": [
    "import pandas as pd\n",
    "import numpy as np\n",
    "\n",
    "import os\n",
    "os.getcwd()"
   ]
  },
  {
   "cell_type": "code",
   "execution_count": 9,
   "metadata": {},
   "outputs": [
    {
     "name": "stdout",
     "output_type": "stream",
     "text": [
      "<class 'pandas.core.frame.DataFrame'>\n",
      "RangeIndex: 17028 entries, 0 to 17027\n",
      "Data columns (total 47 columns):\n",
      " #   Column               Non-Null Count  Dtype  \n",
      "---  ------               --------------  -----  \n",
      " 0   Unnamed: 0.1         17028 non-null  int64  \n",
      " 1   Unnamed: 0           17028 non-null  int64  \n",
      " 2   Name                 17028 non-null  object \n",
      " 3   Overall Rating       17028 non-null  float64\n",
      " 4   Potential            17028 non-null  float64\n",
      " 5   Value                17028 non-null  float64\n",
      " 6   Wage                 17028 non-null  float64\n",
      " 7   Crossing             17028 non-null  float64\n",
      " 8   Finishing            17028 non-null  float64\n",
      " 9   Heading Accuracy     17028 non-null  float64\n",
      " 10  Short Passing        17028 non-null  float64\n",
      " 11  Volleys              17028 non-null  float64\n",
      " 12  Dribbling            17028 non-null  float64\n",
      " 13  Curve                17028 non-null  float64\n",
      " 14  FK Accuracy          17028 non-null  float64\n",
      " 15  Long Passing         17028 non-null  float64\n",
      " 16  Ball Control         17028 non-null  float64\n",
      " 17  Acceleration         17028 non-null  float64\n",
      " 18  Sprint Speed         17028 non-null  float64\n",
      " 19  Agility              17028 non-null  float64\n",
      " 20  Reactions            17028 non-null  float64\n",
      " 21  Balance              17028 non-null  float64\n",
      " 22  Shot Power           17028 non-null  float64\n",
      " 23  Jumping              17028 non-null  float64\n",
      " 24  Stamina              17028 non-null  float64\n",
      " 25  Strength             17028 non-null  float64\n",
      " 26  Long Shots           17028 non-null  float64\n",
      " 27  Aggression           17028 non-null  float64\n",
      " 28  Interceptions        17028 non-null  float64\n",
      " 29  Positioning          17028 non-null  float64\n",
      " 30  Vision               17028 non-null  float64\n",
      " 31  Penalties            17028 non-null  float64\n",
      " 32  Composure            17028 non-null  float64\n",
      " 33  Defensive Awareness  17028 non-null  float64\n",
      " 34  Standing Tackle      17028 non-null  float64\n",
      " 35  Sliding Tackle       17028 non-null  float64\n",
      " 36  GK Diving            17028 non-null  float64\n",
      " 37  GK Handling          17028 non-null  float64\n",
      " 38  GK Kicking           17028 non-null  float64\n",
      " 39  GK Positioning       17028 non-null  float64\n",
      " 40  GK Reflexes          17028 non-null  float64\n",
      " 41  Positions            17028 non-null  object \n",
      " 42  Nationality          17028 non-null  object \n",
      " 43  Age                  17028 non-null  float64\n",
      " 44  Height               17028 non-null  float64\n",
      " 45  Weight               17028 non-null  float64\n",
      " 46  Teams                17028 non-null  object \n",
      "dtypes: float64(41), int64(2), object(4)\n",
      "memory usage: 6.1+ MB\n"
     ]
    }
   ],
   "source": [
    "fifa_df = pd.read_csv('/Users/achintyahanda/Documents/Projects/python/so-fifa/data/c.csv')\n",
    "fifa_df.info()"
   ]
  },
  {
   "cell_type": "code",
   "execution_count": null,
   "metadata": {},
   "outputs": [],
   "source": []
  }
 ],
 "metadata": {
  "interpreter": {
   "hash": "629b4f8e936aaad261d5291d9ff5226b1ff9add10af3e6df1f9f93df0559d6fb"
  },
  "kernelspec": {
   "display_name": "Python 3.10.2 ('virtualenv')",
   "language": "python",
   "name": "python3"
  },
  "language_info": {
   "codemirror_mode": {
    "name": "ipython",
    "version": 3
   },
   "file_extension": ".py",
   "mimetype": "text/x-python",
   "name": "python",
   "nbconvert_exporter": "python",
   "pygments_lexer": "ipython3",
   "version": "3.10.2"
  },
  "orig_nbformat": 4
 },
 "nbformat": 4,
 "nbformat_minor": 2
}
