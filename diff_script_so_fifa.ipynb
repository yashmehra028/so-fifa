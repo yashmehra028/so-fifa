{
  "nbformat": 4,
  "nbformat_minor": 0,
  "metadata": {
    "colab": {
      "name": "Copy of so fifa.ipynb",
      "provenance": [],
      "collapsed_sections": [],
      "include_colab_link": true
    },
    "kernelspec": {
      "name": "python3",
      "display_name": "Python 3"
    },
    "language_info": {
      "name": "python"
    }
  },
  "cells": [
    {
      "cell_type": "markdown",
      "metadata": {
        "id": "view-in-github",
        "colab_type": "text"
      },
      "source": [
        "<a href=\"https://colab.research.google.com/github/yashmehra028/so-fifa/blob/main/diff_script_so_fifa.ipynb\" target=\"_parent\"><img src=\"https://colab.research.google.com/assets/colab-badge.svg\" alt=\"Open In Colab\"/></a>"
      ]
    },
    {
      "cell_type": "code",
      "execution_count": 78,
      "metadata": {
        "id": "lr3i9FHrXdUm"
      },
      "outputs": [],
      "source": [
        "import requests\n",
        "from bs4 import BeautifulSoup as bs\n",
        "import numpy as np\n",
        "import matplotlib.pyplot as plt\n",
        "import concurrent.futures\n",
        "import pandas as pd\n",
        "import re\n",
        "from threading import Thread\n",
        "import collections"
      ]
    },
    {
      "cell_type": "code",
      "source": [
        "def get_player_links(offset_value):\n",
        "    player_links = []\n",
        "    r = requests.get(f'https://sofifa.com/players?offset={offset_value}')\n",
        "    all_players_page = bs(r.content)\n",
        "    tables = all_players_page.select('td.col-name')\n",
        "    for table in tables:\n",
        "        a_tag = table.find('a')\n",
        "        url = a_tag['href']\n",
        "        if 'player' in url and 'players' not in url:\n",
        "            player_links.append('https://sofifa.com' + url)\n",
        "\n",
        "    counter = collections.Counter(player_links)\n",
        "    return [i[0] for i in counter.most_common()]"
      ],
      "metadata": {
        "id": "pqbDHd8OyWTh"
      },
      "execution_count": null,
      "outputs": []
    },
    {
      "cell_type": "code",
      "source": [
        "def real_func(n_pages):\n",
        "    with concurrent.futures.ThreadPoolExecutor() as Executor:\n",
        "        results = Executor.map(get_player_links,range(0,60*n_pages,60))\n",
        "        result = []\n",
        "        for i in results:  \n",
        "            result += i\n",
        "\n",
        "        a = collections.Counter(result)\n",
        "        return [i[0] for i in a.most_common()]\n",
        "\n"
      ],
      "metadata": {
        "id": "NK3ADfec0NL7"
      },
      "execution_count": null,
      "outputs": []
    },
    {
      "cell_type": "code",
      "source": [
        "def get_name(player_page):\n",
        "\n",
        "    name_div = player_page.find('div',attrs={'class':'info'})\n",
        "    return [('Name',name_div.find('h1').get_text())]\n",
        "\n",
        "def get_section_box(player_page):\n",
        "\n",
        "    info_list = []\n",
        "\n",
        "    for initial_info in player_page.select('section'):\n",
        "        text = initial_info.get_text()\n",
        "    \n",
        "    if 'M' in text:\n",
        "        text = text.replace('M','')\n",
        "    if 'K' in text:\n",
        "        text = text.replace('K','')\n",
        "    \n",
        "    pattern = re.compile(r'[+-]\\d{1,2}')\n",
        "    if pattern.findall(text):\n",
        "        for i in pattern.findall(text):\n",
        "            text = text.replace(i,'').strip()\n",
        "\n",
        "    \n",
        "    pattern_num = re.compile(r'\\d+[\\.\\d+]*')\n",
        "    pattern_text = re.compile(r'[A-Za-z]+')\n",
        "    \n",
        "    num_list = pattern_num.findall(text)\n",
        "    char_list = pattern_text.findall(text)\n",
        "    char_list[0] += ' ' + char_list[1]\n",
        "    char_list.pop(1)\n",
        "\n",
        "    for i in range(len(num_list)):\n",
        "        info_list.append((char_list[i],float(num_list[i])))\n",
        "\n",
        "    return info_list\n",
        "\n",
        "def get_skills(player_page):\n",
        "\n",
        "    valid_fields = ['Attacking', 'Skill', 'Movement','Power', 'Mentality', 'Defending', 'Goalkeeping']\n",
        "\n",
        "    info_list = []\n",
        "    divs = [i for i in player_page.select('div.card')]\n",
        "\n",
        "    valid_divs = []\n",
        "    for i in divs:\n",
        "        if i.select('h5'):\n",
        "            if i.select('h5')[0].get_text() in valid_fields:\n",
        "                valid_divs.append(i)\n",
        "\n",
        "    \n",
        "    for i in valid_divs:\n",
        "        info = [j.get_text().strip() for j in i.select('li')]\n",
        "        \n",
        "        for j in info:\n",
        "            pattern_num = re.compile(r'\\d+')\n",
        "            pattern_text = re.compile(r'[A-Za-z]+\\s*[A-Za-z]*')\n",
        "\n",
        "            try:\n",
        "                num = pattern_num.findall(j)[0]\n",
        "                char = pattern_text.findall(j)[0]\n",
        "                info_list.append((char,float(num)))\n",
        "                \n",
        "            except:\n",
        "                pass\n",
        "\n",
        "\n",
        "    return info_list\n",
        "\n",
        "def get_height_weight(player_page):\n",
        "\n",
        "    info_list = []\n",
        "\n",
        "    all_text = player_page.find('div',attrs={'class':'meta ellipsis'}).get_text()\n",
        "    nationality = player_page.find('div',attrs={'class':'meta ellipsis'}).find('a')['title']\n",
        "    info_list.append(('Nationality',nationality))\n",
        "\n",
        "    body_measures = ['Age','Height','Weight']\n",
        "\n",
        "    pattern = re.compile(r'\\d+[c|k|y]')\n",
        "    values = pattern.findall(all_text)\n",
        "\n",
        "    for i in range(len(values)):\n",
        "        info_list.append((body_measures[i],float(values[i][:len(values[i])-1])))\n",
        "\n",
        "    return info_list\n",
        "\n",
        "\n",
        "def get_player_info(player_link):\n",
        "    r = requests.get(player_link)\n",
        "    player_page = bs(r.content)\n",
        "    with concurrent.futures.ThreadPoolExecutor() as executor:\n",
        "        f1 = executor.submit(get_name,player_page)\n",
        "        f2 = executor.submit(get_section_box,player_page)\n",
        "        f3 = executor.submit(get_skills,player_page)\n",
        "        f4 = executor.submit(get_height_weight,player_page)\n",
        "        \n",
        "        return f1.result() + f2.result() + f3.result() + f4.result() "
      ],
      "metadata": {
        "id": "A5txgDaacjp_"
      },
      "execution_count": 103,
      "outputs": []
    },
    {
      "cell_type": "code",
      "source": [
        "def new_get_and_save_df(n_pages,name):\n",
        "    links = real_func(n_pages)\n",
        "    with concurrent.futures.ThreadPoolExecutor() as executor:\n",
        "        results = executor.map(get_player_info,links)\n",
        "\n",
        "        result = [dict(i) for i in results]\n",
        "\n",
        "    df = pd.DataFrame(result)\n",
        "\n",
        "    if 'Marking' in df.columns:\n",
        "        df.drop('Marking',1,inplace=True)\n",
        "    \n",
        "    df.dropna(inplace=True)\n",
        "    df.to_csv(f'{name}.csv')\n",
        "\n",
        "    return df\n",
        "\n",
        "df = new_get_and_save_df(300,'a')"
      ],
      "metadata": {
        "id": "rgZPK1D_bhZE"
      },
      "execution_count": null,
      "outputs": []
    },
    {
      "cell_type": "code",
      "source": [
        "df.info()"
      ],
      "metadata": {
        "colab": {
          "base_uri": "https://localhost:8080/"
        },
        "id": "wU_xnRjTpb8F",
        "outputId": "7eebb43b-0275-4331-b281-d87ef75639d3"
      },
      "execution_count": 114,
      "outputs": [
        {
          "output_type": "stream",
          "name": "stdout",
          "text": [
            "<class 'pandas.core.frame.DataFrame'>\n",
            "Int64Index: 17022 entries, 0 to 17923\n",
            "Data columns (total 43 columns):\n",
            " #   Column               Non-Null Count  Dtype  \n",
            "---  ------               --------------  -----  \n",
            " 0   Name                 17022 non-null  object \n",
            " 1   Overall Rating       17022 non-null  float64\n",
            " 2   Potential            17022 non-null  float64\n",
            " 3   Value                17022 non-null  float64\n",
            " 4   Wage                 17022 non-null  float64\n",
            " 5   Crossing             17022 non-null  float64\n",
            " 6   Finishing            17022 non-null  float64\n",
            " 7   Heading Accuracy     17022 non-null  float64\n",
            " 8   Short Passing        17022 non-null  float64\n",
            " 9   Volleys              17022 non-null  float64\n",
            " 10  Dribbling            17022 non-null  float64\n",
            " 11  Curve                17022 non-null  float64\n",
            " 12  FK Accuracy          17022 non-null  float64\n",
            " 13  Long Passing         17022 non-null  float64\n",
            " 14  Ball Control         17022 non-null  float64\n",
            " 15  Acceleration         17022 non-null  float64\n",
            " 16  Sprint Speed         17022 non-null  float64\n",
            " 17  Agility              17022 non-null  float64\n",
            " 18  Reactions            17022 non-null  float64\n",
            " 19  Balance              17022 non-null  float64\n",
            " 20  Shot Power           17022 non-null  float64\n",
            " 21  Jumping              17022 non-null  float64\n",
            " 22  Stamina              17022 non-null  float64\n",
            " 23  Strength             17022 non-null  float64\n",
            " 24  Long Shots           17022 non-null  float64\n",
            " 25  Aggression           17022 non-null  float64\n",
            " 26  Interceptions        17022 non-null  float64\n",
            " 27  Positioning          17022 non-null  float64\n",
            " 28  Vision               17022 non-null  float64\n",
            " 29  Penalties            17022 non-null  float64\n",
            " 30  Composure            17022 non-null  float64\n",
            " 31  Defensive Awareness  17022 non-null  float64\n",
            " 32  Standing Tackle      17022 non-null  float64\n",
            " 33  Sliding Tackle       17022 non-null  float64\n",
            " 34  GK Diving            17022 non-null  float64\n",
            " 35  GK Handling          17022 non-null  float64\n",
            " 36  GK Kicking           17022 non-null  float64\n",
            " 37  GK Positioning       17022 non-null  float64\n",
            " 38  GK Reflexes          17022 non-null  float64\n",
            " 39  Nationality          17022 non-null  object \n",
            " 40  Age                  17022 non-null  float64\n",
            " 41  Height               17022 non-null  float64\n",
            " 42  Weight               17022 non-null  float64\n",
            "dtypes: float64(41), object(2)\n",
            "memory usage: 5.7+ MB\n"
          ]
        }
      ]
    },
    {
      "cell_type": "code",
      "source": [
        "def plot_average_attr_country(df,n_top_countries,attribute):\n",
        "\n",
        "    nations_group = df.groupby('Nationality')\n",
        "    temp = [(nation,df1['Name'].count(),df1[attribute].sum()/df1[attribute].count()) for nation, df1 in nations_group]\n",
        "    temp.sort(key=lambda x:x[1],reverse=True)\n",
        "    \n",
        "    if n_top_countries <= len(temp):\n",
        "        temp2 = [(temp[i][0],temp[i][2]) for i in range(n_top_countries)]\n",
        "        temp2.sort(key=lambda x:x[1],reverse=True) \n",
        "        top_countries = [temp2[i][0] for i in range(n_top_countries)]\n",
        "        attr_value = [temp2[i][1] for i in range(n_top_countries)]\n",
        "        plt.figure(figsize=(30,6))\n",
        "        plt.xticks(rotation = 90)\n",
        "        plt.plot(top_countries,attr_value)\n",
        "        plt.xlabel(f'Country')\n",
        "        plt.ylabel(f'{attribute}')\n",
        "    \n",
        "    else:\n",
        "        print(f'chutiye itne desh hi nahi hai, {len(temp)} se kaam chalale\\n')\n",
        "        n_top_countries = len(temp)\n",
        "        temp2 = [(temp[i][0],temp[i][2]) for i in range(n_top_countries)]\n",
        "        temp2.sort(key=lambda x:x[1],reverse=True) \n",
        "        top_countries = [temp2[i][0] for i in range(n_top_countries)]\n",
        "        attr_value = [temp2[i][1] for i in range(n_top_countries)]\n",
        "        plt.figure(figsize=(30,6))\n",
        "        plt.xticks(rotation = 90)\n",
        "        plt.plot(top_countries,attr_value)\n",
        "        plt.xlabel(f'Country')\n",
        "        plt.ylabel(f'{attribute}')\n",
        "\n",
        "plot_average_attr_country(df,10,'Height')"
      ],
      "metadata": {
        "colab": {
          "base_uri": "https://localhost:8080/",
          "height": 459
        },
        "id": "x6SZKbhkbfjP",
        "outputId": "923374c6-8d6f-4d7b-89dd-7769970370fa"
      },
      "execution_count": 122,
      "outputs": [
        {
          "output_type": "display_data",
          "data": {
            "text/plain": [
              "<Figure size 2160x432 with 1 Axes>"
            ],
            "image/png": "[encoded data removed]"
          },
          "metadata": {
            "needs_background": "light"
          }
        }
      ]
    }
  ]
}