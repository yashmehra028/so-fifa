{
  "nbformat": 4,
  "nbformat_minor": 0,
  "metadata": {
    "colab": {
      "name": "so fifa.ipynb",
      "provenance": [],
      "collapsed_sections": [],
      "include_colab_link": true
    },
    "kernelspec": {
      "name": "python3",
      "display_name": "Python 3"
    },
    "language_info": {
      "name": "python"
    }
  },
  "cells": [
    {
      "cell_type": "markdown",
      "metadata": {
        "id": "view-in-github",
        "colab_type": "text"
      },
      "source": [
        "<a href=\"https://colab.research.google.com/github/yashmehra028/so-fifa/blob/main/so_fifa.ipynb\" target=\"_parent\"><img src=\"https://colab.research.google.com/assets/colab-badge.svg\" alt=\"Open In Colab\"/></a>"
      ]
    },
    {
      "cell_type": "code",
      "execution_count": 2,
      "metadata": {
        "id": "lr3i9FHrXdUm"
      },
      "outputs": [],
      "source": [
        "import requests\n",
        "from bs4 import BeautifulSoup as bs\n",
        "import numpy as np\n",
        "import matplotlib.pyplot as plt\n",
        "import concurrent.futures\n",
        "import pandas as pd\n",
        "import re\n",
        "from threading import Thread\n",
        "import collections"
      ]
    },
    {
      "cell_type": "code",
      "source": [
        "def get_players_links(n_pages):\n",
        "    offset = range(0,60*n_pages,60)\n",
        "    player_links = []\n",
        "\n",
        "    for offset_value in offset:\n",
        "        r = requests.get(f'https://sofifa.com/players?offset={offset_value}')\n",
        "        all_players_page = bs(r.content)\n",
        "        tables = all_players_page.select('td.col-name')\n",
        "        for table in tables:\n",
        "            a_tag = table.find('a')\n",
        "            url = a_tag['href']\n",
        "            if 'player' in url and 'players' not in url:\n",
        "                player_links.append('https://sofifa.com' + url)\n",
        "\n",
        "    counter = collections.Counter(player_links)\n",
        "    return [i[0] for i in counter.most_common()]\n"
      ],
      "metadata": {
        "id": "YoI2Cwa-Xs34"
      },
      "execution_count": 46,
      "outputs": []
    },
    {
      "cell_type": "code",
      "source": [
        "def scrape_player_link(table):\n",
        "  a_tag = table.find('a')\n",
        "  url = a_tag['href']\n",
        "  if 'player' in url and 'players' not in url:\n",
        "    final = 'https://sofifa.com' + url\n",
        "    # print(final)\n",
        "    return final"
      ],
      "metadata": {
        "id": "7monv1B9hbW1"
      },
      "execution_count": 47,
      "outputs": []
    },
    {
      "cell_type": "code",
      "source": [
        "def scrape_player_links(offset_val):\n",
        "  player_urls = []\n",
        "  threads = []\n",
        "  r = requests.get((f'https://sofifa.com/players?offset={offset_val}'))\n",
        "  page_content = bs(r.content)\n",
        "  tables = page_content.select('td.col-name')\n",
        "  for table in tables:\n",
        "    thread = Thread(target= lambda q, t: q.append(scrape_player_link(table)), args=(player_urls, table))\n",
        "    thread.start()\n",
        "    threads.append(thread)\n",
        "  for t in threads:\n",
        "    t.join()\n",
        "  return player_urls"
      ],
      "metadata": {
        "id": "6LYgdcT8d4Ao"
      },
      "execution_count": null,
      "outputs": []
    },
    {
      "cell_type": "code",
      "source": [
        "def get_player_links(n_pages):\n",
        "  threads = []\n",
        "  que = []\n",
        "  for offset_value in range(0,60*n_pages,60):\n",
        "    thread = Thread(target= lambda q, offset: q.extend(scrape_player_links(offset)), args=(que, offset_value))\n",
        "    thread.start()\n",
        "    threads.append(thread)\n",
        "  for t in threads:\n",
        "    t.join()\n",
        "  # que = list(filter(None, que))\n",
        "  return que"
      ],
      "metadata": {
        "id": "kjdBFK3DciO6"
      },
      "execution_count": null,
      "outputs": []
    },
    {
      "cell_type": "code",
      "source": [
        "def get_name(player_page):\n",
        "\n",
        "    name_div = player_page.find('div',attrs={'class':'info'})\n",
        "    return [('Name',name_div.find('h1').get_text())]\n",
        "\n",
        "def get_section_box(player_page):\n",
        "\n",
        "    info_list = []\n",
        "\n",
        "    for initial_info in player_page.select('section'):\n",
        "        text = initial_info.get_text()\n",
        "    \n",
        "    if 'M' in text:\n",
        "        text = text.replace('M','')\n",
        "    if 'K' in text:\n",
        "        text = text.replace('K','')\n",
        "    \n",
        "    pattern = re.compile(r'[+-]\\d{1,2}')\n",
        "    if pattern.findall(text):\n",
        "        for i in pattern.findall(text):\n",
        "            text = text.replace(i,'').strip()\n",
        "\n",
        "    \n",
        "    pattern_num = re.compile(r'\\d+[\\.\\d+]*')\n",
        "    pattern_text = re.compile(r'[A-Za-z]+')\n",
        "    \n",
        "    num_list = pattern_num.findall(text)\n",
        "    char_list = pattern_text.findall(text)\n",
        "    char_list[0] += ' ' + char_list[1]\n",
        "    char_list.pop(1)\n",
        "\n",
        "    for i in range(len(num_list)):\n",
        "        info_list.append((char_list[i],float(num_list[i])))\n",
        "\n",
        "    return info_list\n",
        "\n",
        "def get_skills(player_page):\n",
        "\n",
        "    valid_fields = ['Attacking', 'Skill', 'Movement','Power', 'Mentality', 'Defending', 'Goalkeeping']\n",
        "\n",
        "    info_list = []\n",
        "    divs = [i for i in player_page.select('div.card')]\n",
        "\n",
        "    valid_divs = []\n",
        "    for i in divs:\n",
        "        if i.select('h5'):\n",
        "            if i.select('h5')[0].get_text() in valid_fields:\n",
        "                valid_divs.append(i)\n",
        "\n",
        "    \n",
        "    for i in valid_divs:\n",
        "        info = [j.get_text().strip() for j in i.select('li')]\n",
        "        \n",
        "        for j in info:\n",
        "            pattern_num = re.compile(r'\\d+')\n",
        "            pattern_text = re.compile(r'[A-Za-z]+\\s*[A-Za-z]*')\n",
        "\n",
        "            try:\n",
        "                num = pattern_num.findall(j)[0]\n",
        "                char = pattern_text.findall(j)[0]\n",
        "                info_list.append((char,float(num)))\n",
        "                \n",
        "            except:\n",
        "                pass\n",
        "\n",
        "\n",
        "    return info_list\n",
        "\n",
        "def get_height_weight(player_page):\n",
        "\n",
        "    info_list = []\n",
        "\n",
        "    all_text = player_page.find('div',attrs={'class':'meta ellipsis'}).get_text()\n",
        "    nationality = player_page.find('div',attrs={'class':'meta ellipsis'}).find('a')['title']\n",
        "    info_list.append(('Nationality',nationality))\n",
        "\n",
        "    body_measures = ['Age','Height','Weight']\n",
        "\n",
        "    pattern = re.compile(r'\\d+[c|k|y]')\n",
        "    values = pattern.findall(all_text)\n",
        "\n",
        "    for i in range(len(values)):\n",
        "        info_list.append((body_measures[i],float(values[i][:len(values[i])-1])))\n",
        "\n",
        "    return info_list\n",
        "\n",
        "\n",
        "def get_player_info(player_link):\n",
        "    r = requests.get(player_link)\n",
        "    player_page = bs(r.content)\n",
        "\n",
        "    a = get_section_box(player_page)\n",
        "    b = get_name(player_page)\n",
        "    c = get_skills(player_page)\n",
        "    d = get_height_weight(player_page)\n",
        "\n",
        "    return a + b + c + d"
      ],
      "metadata": {
        "id": "A5txgDaacjp_"
      },
      "execution_count": 48,
      "outputs": []
    },
    {
      "cell_type": "code",
      "source": [
        "def get_and_save_df(n_pages,name):\n",
        "    player_links = get_players_links(n_pages)\n",
        "    print(len(player_links))\n",
        "    result = []\n",
        "    i = 0\n",
        "    for link in player_links:\n",
        "        info_dict = {i[0]:i[1] for i in get_player_info(link)}\n",
        "        result.append(info_dict)\n",
        "        i += 1\n",
        "        if i % 30 != 0:\n",
        "            print(i, end = ' ')\n",
        "        else:\n",
        "            print(i)\n",
        "    df = pd.DataFrame(result)\n",
        "\n",
        "    if 'Marking' in df.columns:\n",
        "        df.drop('Marking',1,inplace=True)\n",
        "\n",
        "    df.dropna(inplace=True)\n",
        "\n",
        "    df.to_csv(f'{name}.csv')\n",
        "    return df"
      ],
      "metadata": {
        "id": "8jAky7I8b6se"
      },
      "execution_count": 49,
      "outputs": []
    },
    {
      "cell_type": "code",
      "source": [
        "df2 = get_and_save_df(10,'data2')"
      ],
      "metadata": {
        "id": "ga2YEpWDfJpl"
      },
      "execution_count": null,
      "outputs": []
    },
    {
      "cell_type": "code",
      "source": [
        "df2.info()"
      ],
      "metadata": {
        "id": "OObkXOQsiZV9"
      },
      "execution_count": null,
      "outputs": []
    },
    {
      "cell_type": "code",
      "source": [
        "df2.head"
      ],
      "metadata": {
        "id": "NFDg9WxgbStN"
      },
      "execution_count": null,
      "outputs": []
    },
    {
      "cell_type": "code",
      "source": [
        "def plot_average_attr_country(df,n_top_countries,attribute):\n",
        "\n",
        "    nations_group = df.groupby('Nationality')\n",
        "    temp = [(nation,df1['Name'].count(),df1[attribute].sum()/df1[attribute].count()) for nation, df1 in nations_group]\n",
        "    temp.sort(key=lambda x:x[1],reverse=True)\n",
        "    \n",
        "    if n_top_countries <= len(temp):\n",
        "        temp2 = [(temp[i][0],temp[i][2]) for i in range(n_top_countries)]\n",
        "        temp2.sort(key=lambda x:x[1],reverse=True) \n",
        "        top_countries = [temp2[i][0] for i in range(n_top_countries)]\n",
        "        attr_value = [temp2[i][1] for i in range(n_top_countries)]\n",
        "        plt.figure(figsize=(30,6))\n",
        "        plt.xticks(rotation = 90)\n",
        "        plt.plot(top_countries,attr_value)\n",
        "    \n",
        "    else:\n",
        "        print('chutiye itne desh hi nahi hai, itne se kaam chalale\\n')\n",
        "        n_top_countries = len(temp)\n",
        "        temp2 = [(temp[i][0],temp[i][2]) for i in range(n_top_countries)]\n",
        "        temp2.sort(key=lambda x:x[1],reverse=True) \n",
        "        top_countries = [temp2[i][0] for i in range(n_top_countries)]\n",
        "        attr_value = [temp2[i][1] for i in range(n_top_countries)]\n",
        "        plt.figure(figsize=(30,6))\n",
        "        plt.xticks(rotation = 90)\n",
        "        plt.plot(top_countries,attr_value)\n",
        "\n",
        "plot_average_attr_country(df2,50,'Potential')"
      ],
      "metadata": {
        "colab": {
          "base_uri": "https://localhost:8080/",
          "height": 505
        },
        "id": "x6SZKbhkbfjP",
        "outputId": "92264121-4e7a-449c-b822-693b0ac31c9c"
      },
      "execution_count": 73,
      "outputs": [
        {
          "output_type": "display_data",
          "data": {
            "text/plain": [
              "<Figure size 2160x432 with 1 Axes>"
            ],
            "image/png": "[encoded data removed]"
          },
          "metadata": {
            "needs_background": "light"
          }
        }
      ]
    },
    {
      "cell_type": "code",
      "source": [
        "# #imdb\n",
        "# import requests\n",
        "# from bs4 import BeautifulSoup as bs\n",
        "\n",
        "# def get_movie_links(n_pages):\n",
        "\n",
        "#     all_movie_links = []\n",
        "\n",
        "#     url = 'https://www.imdb.com/search/title/?country_of_origin=IN&start=201&ref_=adv_nxt'\n",
        "#     start_values = range(1,n_pages*50,50)\n",
        "#     for start in start_values:\n",
        "#         url = f'https://www.imdb.com/search/title/?country_of_origin=IN&start={start}&ref_=adv_nxt'\n",
        "#         r = requests.get(url)\n",
        "#         all_links_page = bs(r.content)\n",
        "#         h3_tags = all_links_page.select('h3')\n",
        "#         for tag in h3_tags:\n",
        "#             try:\n",
        "#                 movie_url = tag.find('a')['href']\n",
        "#                 full_url = f'https://www.imdb.com{movie_url}?ref_=adv_li_tt'\n",
        "#                 all_movie_links.append(full_url)\n",
        "            \n",
        "#             except:\n",
        "#                 pass\n",
        "        \n",
        "\n",
        "#     return all_movie_links\n",
        "# all_links = get_movie_links(30) "
      ],
      "metadata": {
        "id": "X8Gi3IBt0WuY"
      },
      "execution_count": null,
      "outputs": []
    }
  ]
}